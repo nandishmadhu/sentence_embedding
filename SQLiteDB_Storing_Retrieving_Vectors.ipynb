{
  "nbformat": 4,
  "nbformat_minor": 0,
  "metadata": {
    "colab": {
      "provenance": [],
      "authorship_tag": "ABX9TyOUia+x5SSvPKRRE+/UQchP",
      "include_colab_link": true
    },
    "kernelspec": {
      "name": "python3",
      "display_name": "Python 3"
    },
    "language_info": {
      "name": "python"
    }
  },
  "cells": [
    {
      "cell_type": "markdown",
      "metadata": {
        "id": "view-in-github",
        "colab_type": "text"
      },
      "source": [
        "<a href=\"https://colab.research.google.com/github/nandishmadhu/sentence_embedding/blob/master/SQLiteDB_Storing_Retrieving_Vectors.ipynb\" target=\"_parent\"><img src=\"https://colab.research.google.com/assets/colab-badge.svg\" alt=\"Open In Colab\"/></a>"
      ]
    },
    {
      "cell_type": "code",
      "execution_count": 1,
      "metadata": {
        "id": "yJsredlYNy7n"
      },
      "outputs": [],
      "source": [
        "import sqlite3\n",
        "import numpy as np"
      ]
    },
    {
      "cell_type": "code",
      "source": [
        "#create a connection to the SQLite DB\n",
        "conn=sqlite3.connect(\"vectordb.db\")\n",
        "#Create a cursor object to execute SQL commands\n",
        "cursor=conn.cursor()"
      ],
      "metadata": {
        "id": "Doc94pqXODzC"
      },
      "execution_count": 2,
      "outputs": []
    },
    {
      "cell_type": "code",
      "source": [
        "#Create a table for vector data\n",
        "cursor.execute(\n",
        "    \"\"\"\n",
        "    CREATE TABLE IF NOT EXISTS vectors (\n",
        "      id INTEGER PRIMARY KEY,\n",
        "      vector BLOB NOT NULL\n",
        "    )\n",
        "    \"\"\"\n",
        ")"
      ],
      "metadata": {
        "colab": {
          "base_uri": "https://localhost:8080/"
        },
        "id": "A3prNMvHOSpH",
        "outputId": "2d968f72-17a9-49ea-ab9d-68d10e039143"
      },
      "execution_count": 3,
      "outputs": [
        {
          "output_type": "execute_result",
          "data": {
            "text/plain": [
              "<sqlite3.Cursor at 0x7c1c019f2ec0>"
            ]
          },
          "metadata": {},
          "execution_count": 3
        }
      ]
    },
    {
      "cell_type": "code",
      "source": [
        "#generate some sample vectors\n",
        "vect1=np.array([1.2,3.4,2.1,0.8])\n",
        "vect2=np.array([2.7,1.5,3.9,2.3])"
      ],
      "metadata": {
        "id": "2aok_4MnOgsL"
      },
      "execution_count": 17,
      "outputs": []
    },
    {
      "cell_type": "code",
      "source": [
        "vect1"
      ],
      "metadata": {
        "colab": {
          "base_uri": "https://localhost:8080/"
        },
        "id": "TVr0PDfzQf5S",
        "outputId": "65f4f9cf-93ee-4e46-abe7-43c138c934f6"
      },
      "execution_count": 18,
      "outputs": [
        {
          "output_type": "execute_result",
          "data": {
            "text/plain": [
              "array([1.2, 3.4, 2.1, 0.8])"
            ]
          },
          "metadata": {},
          "execution_count": 18
        }
      ]
    },
    {
      "cell_type": "code",
      "source": [
        "vect2"
      ],
      "metadata": {
        "colab": {
          "base_uri": "https://localhost:8080/"
        },
        "id": "5pA-nRLKQhI6",
        "outputId": "298effca-fc08-47bf-df10-549352e8ee04"
      },
      "execution_count": 19,
      "outputs": [
        {
          "output_type": "execute_result",
          "data": {
            "text/plain": [
              "array([2.7, 1.5, 3.9, 2.3])"
            ]
          },
          "metadata": {},
          "execution_count": 19
        }
      ]
    },
    {
      "cell_type": "code",
      "source": [],
      "metadata": {
        "id": "_HJwqXGDQiZx"
      },
      "execution_count": null,
      "outputs": []
    },
    {
      "cell_type": "code",
      "source": [
        "vect1.tobytes() # numpy array to bytestream"
      ],
      "metadata": {
        "colab": {
          "base_uri": "https://localhost:8080/"
        },
        "id": "WXYcjI6pOuxF",
        "outputId": "a0310434-911f-4d84-da09-4dac77ef10d5"
      },
      "execution_count": 5,
      "outputs": [
        {
          "output_type": "execute_result",
          "data": {
            "text/plain": [
              "b'333333\\xf3?333333\\x0b@\\xcd\\xcc\\xcc\\xcc\\xcc\\xcc\\x00@\\x9a\\x99\\x99\\x99\\x99\\x99\\xe9?'"
            ]
          },
          "metadata": {},
          "execution_count": 5
        }
      ]
    },
    {
      "cell_type": "code",
      "source": [
        "#Insert vector data into table\n",
        "cursor.execute(\"INSERT INTO vectors (vector) VALUES (?)\",\n",
        "               (sqlite3.Binary(vect1.tobytes()),))"
      ],
      "metadata": {
        "colab": {
          "base_uri": "https://localhost:8080/"
        },
        "id": "rbYGIgOAOzcE",
        "outputId": "5ab5aaf2-a0d0-4ab8-fbbc-aa2fc7112a58"
      },
      "execution_count": 6,
      "outputs": [
        {
          "output_type": "execute_result",
          "data": {
            "text/plain": [
              "<sqlite3.Cursor at 0x7c1c019f2ec0>"
            ]
          },
          "metadata": {},
          "execution_count": 6
        }
      ]
    },
    {
      "cell_type": "code",
      "source": [
        "cursor.execute(\"INSERT INTO vectors (vector) VALUES (?)\",\n",
        "               (sqlite3.Binary(vect2.tobytes()),))"
      ],
      "metadata": {
        "colab": {
          "base_uri": "https://localhost:8080/"
        },
        "id": "5Qu5TlEPPH9I",
        "outputId": "4a49fd38-05fe-49be-d3e6-f198ad655660"
      },
      "execution_count": 9,
      "outputs": [
        {
          "output_type": "execute_result",
          "data": {
            "text/plain": [
              "<sqlite3.Cursor at 0x7c1c019f2ec0>"
            ]
          },
          "metadata": {},
          "execution_count": 9
        }
      ]
    },
    {
      "cell_type": "code",
      "source": [
        "#Retrieve data\n",
        "cursor.execute(\"SELECT vector FROM vectors\")"
      ],
      "metadata": {
        "colab": {
          "base_uri": "https://localhost:8080/"
        },
        "id": "HBQRRcr7PUep",
        "outputId": "c6bb8762-9cda-4d3d-f56e-ff2e6434931f"
      },
      "execution_count": 10,
      "outputs": [
        {
          "output_type": "execute_result",
          "data": {
            "text/plain": [
              "<sqlite3.Cursor at 0x7c1c019f2ec0>"
            ]
          },
          "metadata": {},
          "execution_count": 10
        }
      ]
    },
    {
      "cell_type": "code",
      "source": [
        "rows=cursor.fetchall()"
      ],
      "metadata": {
        "id": "PnSt_0dUP5iG"
      },
      "execution_count": 11,
      "outputs": []
    },
    {
      "cell_type": "code",
      "source": [
        "rows"
      ],
      "metadata": {
        "colab": {
          "base_uri": "https://localhost:8080/"
        },
        "id": "fOWoc7mpP_KN",
        "outputId": "96ad8d99-9884-4f66-e135-909d5784e1bc"
      },
      "execution_count": 12,
      "outputs": [
        {
          "output_type": "execute_result",
          "data": {
            "text/plain": [
              "[(b'333333\\xf3?333333\\x0b@\\xcd\\xcc\\xcc\\xcc\\xcc\\xcc\\x00@\\x9a\\x99\\x99\\x99\\x99\\x99\\xe9?',),\n",
              " (b'\\x9a\\x99\\x99\\x99\\x99\\x99\\x05@\\x00\\x00\\x00\\x00\\x00\\x00\\xf8?333333\\x0f@ffffff\\x02@',)]"
            ]
          },
          "metadata": {},
          "execution_count": 12
        }
      ]
    },
    {
      "cell_type": "code",
      "source": [
        "vector=np.frombuffer(rows[0][0],dtype=np.float64)"
      ],
      "metadata": {
        "id": "UXFC5b5kQANU"
      },
      "execution_count": 13,
      "outputs": []
    },
    {
      "cell_type": "code",
      "source": [
        "vector"
      ],
      "metadata": {
        "colab": {
          "base_uri": "https://localhost:8080/"
        },
        "id": "2a2UmQkdQILc",
        "outputId": "a8a1d117-69c8-48b9-9ce4-881e21ad099f"
      },
      "execution_count": 14,
      "outputs": [
        {
          "output_type": "execute_result",
          "data": {
            "text/plain": [
              "array([1.2, 3.4, 2.1, 0.8])"
            ]
          },
          "metadata": {},
          "execution_count": 14
        }
      ]
    },
    {
      "cell_type": "code",
      "source": [
        "vectors=[]\n",
        "for row in rows:\n",
        "    vector=np.frombuffer(row[0],dtype=np.float64)\n",
        "    vectors.append(vector)"
      ],
      "metadata": {
        "id": "HMctUY77QJU-"
      },
      "execution_count": 15,
      "outputs": []
    },
    {
      "cell_type": "code",
      "source": [
        "vectors"
      ],
      "metadata": {
        "colab": {
          "base_uri": "https://localhost:8080/"
        },
        "id": "GMMzUSqeQXvM",
        "outputId": "f70e379e-0d61-40fb-d88a-a5e7901ba914"
      },
      "execution_count": 16,
      "outputs": [
        {
          "output_type": "execute_result",
          "data": {
            "text/plain": [
              "[array([1.2, 3.4, 2.1, 0.8]), array([2.7, 1.5, 3.9, 2.3])]"
            ]
          },
          "metadata": {},
          "execution_count": 16
        }
      ]
    },
    {
      "cell_type": "code",
      "source": [],
      "metadata": {
        "id": "kzo3RZHUQZCy"
      },
      "execution_count": null,
      "outputs": []
    },
    {
      "cell_type": "markdown",
      "source": [
        "**Vector Similarity Search (VSS)**"
      ],
      "metadata": {
        "id": "LQotNuL5QqeB"
      }
    },
    {
      "cell_type": "code",
      "source": [
        "query_vect=np.array([1.0,3.2,2.0,0.5])"
      ],
      "metadata": {
        "id": "aYPiK_DVQ3im"
      },
      "execution_count": 20,
      "outputs": []
    },
    {
      "cell_type": "code",
      "source": [
        "cursor.execute(\"\"\"\n",
        "SELECT vector FROM vectors ORDER BY abs(vector - ?) ASC\n",
        "\"\"\",(sqlite3.Binary(query_vect.tobytes()),))"
      ],
      "metadata": {
        "colab": {
          "base_uri": "https://localhost:8080/"
        },
        "id": "-PhWPQTmQ9C3",
        "outputId": "73a0a8f5-69e0-4efd-c998-8e42601bcb5e"
      },
      "execution_count": 21,
      "outputs": [
        {
          "output_type": "execute_result",
          "data": {
            "text/plain": [
              "<sqlite3.Cursor at 0x7c1c019f2ec0>"
            ]
          },
          "metadata": {},
          "execution_count": 21
        }
      ]
    },
    {
      "cell_type": "code",
      "source": [
        "res=cursor.fetchone() # finding the top one"
      ],
      "metadata": {
        "id": "raZv4THoRQ6i"
      },
      "execution_count": 22,
      "outputs": []
    },
    {
      "cell_type": "code",
      "source": [
        "np.frombuffer(res[0], dtype=np.float64) # most similar vector"
      ],
      "metadata": {
        "colab": {
          "base_uri": "https://localhost:8080/"
        },
        "id": "jP_2Rs4_RWyw",
        "outputId": "cd14a14e-c988-4c9c-dced-95b3d3288608"
      },
      "execution_count": 25,
      "outputs": [
        {
          "output_type": "execute_result",
          "data": {
            "text/plain": [
              "array([2.7, 1.5, 3.9, 2.3])"
            ]
          },
          "metadata": {},
          "execution_count": 25
        }
      ]
    },
    {
      "cell_type": "code",
      "source": [],
      "metadata": {
        "id": "HAK1qF9vRhuY"
      },
      "execution_count": null,
      "outputs": []
    }
  ]
}